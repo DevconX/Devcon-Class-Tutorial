{
 "cells": [
  {
   "cell_type": "code",
   "execution_count": 13,
   "metadata": {},
   "outputs": [],
   "source": [
    "#Face and Eye Haar Detection Using Pre-trained xml files"
   ]
  },
  {
   "cell_type": "code",
   "execution_count": 14,
   "metadata": {},
   "outputs": [],
   "source": [
    "import numpy as np\n",
    "import cv2\n",
    "import matplotlib.pyplot as plt"
   ]
  },
  {
   "cell_type": "code",
   "execution_count": 15,
   "metadata": {},
   "outputs": [],
   "source": [
    "img = cv2.imread(\"images/faces.jpeg\",1)\n",
    "imgray = cv2.cvtColor(img,cv2.COLOR_BGR2GRAY) #change to gray\n",
    "imcolor=cv2.cvtColor(img, cv2.COLOR_BGR2RGB)  #change to rgb\n",
    "xmlfileface = \"haarcascade_smile.xml\"\n",
    "xmlfileeye=\"haarcascade_eye.xml\"\n",
    "\n",
    "#xmlfileeye=\"haarcascade_eye_tree_eyeglasses.xml\""
   ]
  },
  {
   "cell_type": "code",
   "execution_count": 16,
   "metadata": {},
   "outputs": [],
   "source": [
    "face_cascade = cv2.CascadeClassifier(xmlfileface)\n",
    "eye_cascade= cv2.CascadeClassifier(xmlfileeye)\n",
    "faces = face_cascade.detectMultiScale(imcolor, scaleFactor=1.10, minNeighbors=5, minSize=(40,40))\n",
    "#print(len(faces)) #no of faces"
   ]
  },
  {
   "cell_type": "code",
   "execution_count": 17,
   "metadata": {},
   "outputs": [],
   "source": [
    "for (x, y, w, h) in faces:\n",
    "    cv2.rectangle(imcolor, (x,y), (x+w,y+h), (255,255,0), 2)\n",
    "    roi_gray=imgray[y:y+h, x:x+w]\n",
    "    roi_color=imcolor[y:y+h, x:x+w]\n",
    "    eyes=eye_cascade.detectMultiScale(roi_color)\n",
    "    for (ex,ey,ew,eh) in eyes :\n",
    "        cv2.rectangle(roi_color, (ex,ey), (ex+ew,ey+eh), (255,0,0), 2)\n",
    "\n",
    "#cv2.imshow(\"Image\",img)\n",
    "#cv2.waitKey(0)\n",
    "#cv2.destroyAllWindows()\n",
    "#print(len(eyes)) #no of faces"
   ]
  },
  {
   "cell_type": "code",
   "execution_count": 18,
   "metadata": {},
   "outputs": [],
   "source": [
    "#fig, ax = plt.subplots(1, 1, figsize=(12, 12),\n",
    " #                      subplot_kw=dict(xticks=[], yticks=[]))\n",
    "\n",
    "\n",
    "#ax.imshow(imcolor)\n",
    "#ax.set_title('orig image');"
   ]
  },
  {
   "cell_type": "code",
   "execution_count": null,
   "metadata": {},
   "outputs": [],
   "source": []
  }
 ],
 "metadata": {
  "kernelspec": {
   "display_name": "Python 3",
   "language": "python",
   "name": "python3"
  },
  "language_info": {
   "codemirror_mode": {
    "name": "ipython",
    "version": 3
   },
   "file_extension": ".py",
   "mimetype": "text/x-python",
   "name": "python",
   "nbconvert_exporter": "python",
   "pygments_lexer": "ipython3",
   "version": "3.6.4"
  }
 },
 "nbformat": 4,
 "nbformat_minor": 2
}
