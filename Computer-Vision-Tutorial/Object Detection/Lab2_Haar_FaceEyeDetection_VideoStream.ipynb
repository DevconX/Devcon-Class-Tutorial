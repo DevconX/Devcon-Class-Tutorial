{
 "cells": [
  {
   "cell_type": "code",
   "execution_count": 40,
   "metadata": {},
   "outputs": [],
   "source": [
    "import numpy as np\n",
    "import cv2\n",
    "\n",
    "\n",
    "cap=cv2.VideoCapture(0)\n",
    "xmlfileface = \"haarcascade_frontalface_default.xml\"\n",
    "xmlfileeye=\"haarcascade_eye.xml\"\n",
    "#xmlfileeye=\"haarcascade_eye_tree_eyeglasses.xml\"\n",
    "face_cascade = cv2.CascadeClassifier(xmlfileface)\n",
    "eye_cascade= cv2.CascadeClassifier(xmlfileeye)\n"
   ]
  },
  {
   "cell_type": "code",
   "execution_count": 41,
   "metadata": {},
   "outputs": [],
   "source": [
    "while True:\n",
    "    ret, img =cap.read()\n",
    "    imgray = cv2.cvtColor(img,cv2.COLOR_BGR2GRAY) #change to gray\n",
    "    imcolor=cv2.cvtColor(img, cv2.COLOR_BGR2RGB)  #change to rgb\n",
    "    faces = face_cascade.detectMultiScale(imgray, 1.3,5)\n",
    "   \n",
    "    \n",
    "    for (x, y, w, h) in faces:\n",
    "        cv2.rectangle(img, (x,y), (x+w,y+h), (255,0,0), 2)\n",
    "        roi_gray=imgray[y:y+h, x:x+w]\n",
    "        roi_color=img[y:y+h, x:x+w]\n",
    "        \n",
    "        eyes = eye_cascade.detectMultiScale(roi_gray)\n",
    "        for (ex,ey,ew,eh) in eyes:\n",
    "            cv2.rectangle(roi_color,(ex,ey),(ex+ew,ey+eh),(0,255,0),2)     \n",
    "                \n",
    "    cv2.imshow('img',img)\n",
    "    k=cv2.waitKey(30) & 0xff\n",
    "    if k==27:\n",
    "        break\n",
    "                \n",
    "cap.release()\n",
    "cv2.destroyAllWindows()"
   ]
  },
  {
   "cell_type": "code",
   "execution_count": null,
   "metadata": {},
   "outputs": [],
   "source": []
  },
  {
   "cell_type": "code",
   "execution_count": null,
   "metadata": {},
   "outputs": [],
   "source": []
  }
 ],
 "metadata": {
  "kernelspec": {
   "display_name": "Python 3",
   "language": "python",
   "name": "python3"
  },
  "language_info": {
   "codemirror_mode": {
    "name": "ipython",
    "version": 3
   },
   "file_extension": ".py",
   "mimetype": "text/x-python",
   "name": "python",
   "nbconvert_exporter": "python",
   "pygments_lexer": "ipython3",
   "version": "3.6.4"
  }
 },
 "nbformat": 4,
 "nbformat_minor": 2
}
