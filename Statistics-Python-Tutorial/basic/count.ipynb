{
 "cells": [
  {
   "cell_type": "markdown",
   "metadata": {},
   "source": [
    "## Multiplication principle"
   ]
  },
  {
   "cell_type": "markdown",
   "metadata": {},
   "source": [
    "How many possible license plates could be stamped if each license plate were required to have exactly 3 letters and 4 numbers?"
   ]
  },
  {
   "cell_type": "markdown",
   "metadata": {},
   "source": [
    "(26 × 26 × 26) × (10 × 10 × 10 × 10)"
   ]
  },
  {
   "cell_type": "code",
   "execution_count": 3,
   "metadata": {},
   "outputs": [
    {
     "data": {
      "text/plain": [
       "175760000"
      ]
     },
     "execution_count": 3,
     "metadata": {},
     "output_type": "execute_result"
    }
   ],
   "source": [
    "(26 * 26 * 26) * (10 * 10 * 10 * 10)"
   ]
  },
  {
   "cell_type": "markdown",
   "metadata": {},
   "source": [
    "Now, how many possible license plates could be stamped if each license plate were required to have 3 unique letters and 4 unique numbers?"
   ]
  },
  {
   "cell_type": "markdown",
   "metadata": {},
   "source": [
    "(26 × 25 × 24) × (10 × 9 × 8 × 7)"
   ]
  },
  {
   "cell_type": "code",
   "execution_count": 4,
   "metadata": {},
   "outputs": [
    {
     "data": {
      "text/plain": [
       "78624000"
      ]
     },
     "execution_count": 4,
     "metadata": {},
     "output_type": "execute_result"
    }
   ],
   "source": [
    "(26 * 25 * 24) * (10 * 9 * 8 * 7)"
   ]
  },
  {
   "cell_type": "markdown",
   "metadata": {},
   "source": [
    "## permutation\n",
    "\n",
    "We often call such a permutation a “permutation of n objects taken n at a time,” and denote it as nPn. That is:\n",
    "\n",
    "nPn = n × (n − 1) × (n − 2) × ... × 1 = n!"
   ]
  },
  {
   "cell_type": "markdown",
   "metadata": {},
   "source": [
    "In how many ways can 7 different books be arranged on a shelf?\n",
    "\n",
    "We could use the Multiplication Principle to solve this problem. We have seven positions that we can fill with seven books. There are 7 possible books for the first position, 6 possible books for the second position, five possible books for the third position, and so on. The Multiplication Principle tells us therefore that the books can be arranged in:\n",
    "\n",
    "7 × 6 × 5 × 4 × 3 × 2 × 1"
   ]
  },
  {
   "cell_type": "markdown",
   "metadata": {},
   "source": [
    "What if the 6 names were sampled with replacement?  That is, once we select a name, it is returned to the bag.\n",
    "\n",
    "Solution. If we sample with replacement, we have 6 choices for each of the 6 jobs. Applying the Multiplication Principle, there are:\n",
    "\n",
    "6 × 6 × 6 × 6 × 6 × 6 = 46,656"
   ]
  },
  {
   "cell_type": "markdown",
   "metadata": {},
   "source": [
    "An artist has 9 paintings. How many ways can he hang 4 paintings side-by-side on a gallery wall?\n",
    "\n",
    "9! / (9 - 4)!"
   ]
  },
  {
   "cell_type": "code",
   "execution_count": null,
   "metadata": {},
   "outputs": [],
   "source": []
  }
 ],
 "metadata": {
  "kernelspec": {
   "display_name": "Python 3",
   "language": "python",
   "name": "python3"
  },
  "language_info": {
   "codemirror_mode": {
    "name": "ipython",
    "version": 3
   },
   "file_extension": ".py",
   "mimetype": "text/x-python",
   "name": "python",
   "nbconvert_exporter": "python",
   "pygments_lexer": "ipython3",
   "version": "3.5.2"
  }
 },
 "nbformat": 4,
 "nbformat_minor": 2
}
