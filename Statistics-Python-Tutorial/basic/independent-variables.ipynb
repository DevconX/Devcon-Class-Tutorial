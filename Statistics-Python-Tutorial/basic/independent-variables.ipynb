{
 "cells": [
  {
   "cell_type": "markdown",
   "metadata": {},
   "source": [
    "Definition.  Events A and B are independent events if the occurrence of one of them does not affect the probability of the occurrence of the other. That is, two events are independent if either:\n",
    "P(B|A) = P(B)\n",
    "\n",
    "(provided that P(A) > 0) or:\n",
    "\n",
    "P(A|B) = P(A)\n",
    "\n",
    "(provided that P(B) > 0)."
   ]
  },
  {
   "cell_type": "markdown",
   "metadata": {},
   "source": [
    "Definition. Events A and B are independent events if and only if :\n",
    "\n",
    "P(A ∩ B) = P(A) × P(B)\n",
    "\n",
    "Otherwise, A and B are called dependent events."
   ]
  },
  {
   "cell_type": "markdown",
   "metadata": {},
   "source": [
    "A recent survey of students suggested that 10% of Penn State students commute by bike, while 40% of them have a significant other. Based on this survey, what percentage of Penn State students commute by bike and have a significant other?\n",
    "\n",
    "Solution. Let's let B be the event that a randomly selected Penn State student commutes by bike, and S be the event that a randomly selected Penn State student has a significant other. If B and S are independent events (okay??), then the definition tells us that:\n",
    "\n",
    "P(B ∩ S) = P(B) × P(S) = 0.10 × 0.40 = 0.04\n",
    "\n",
    "That is, 4% of Penn State students commute by bike and have a significant other. (Is this result at all meaningful??)"
   ]
  },
  {
   "cell_type": "markdown",
   "metadata": {},
   "source": [
    "Theorem: If A and B are independent events, then the events A and B' are also independent."
   ]
  },
  {
   "cell_type": "markdown",
   "metadata": {},
   "source": [
    "Theorem: If A and B are independent events, then the events A' and B are also independent."
   ]
  },
  {
   "cell_type": "markdown",
   "metadata": {},
   "source": [
    "Theorem: If A and B are independent events, then the events A' and B' are also independent."
   ]
  },
  {
   "cell_type": "markdown",
   "metadata": {},
   "source": [
    "A nationwide poll determines that 72% of the American population loves eating pizza. If two people are randomly selected from the population, what is the probability that the first person loves eating pizza, while the second one does not?\n",
    "\n",
    "Solution. Let A be the event that the first person loves pizza, and let B be the event that the second person loves pizza. Because the two people are selected randomly from the population, it is reasonable to assume that A and B are independent events. If A and B are independent events, then A and B' are also independent events. Therefore, P(A ∩ B'), the probability that the first person loves eating pizza, while the second one does not can be calculated by multiplying their individual probabilities together. That is, the probability that the first person loves eating pizza, while the second one does not is:\n",
    "\n",
    "P(A ∩ B') = 0.72 × (1 − 0.72) = 0.202"
   ]
  },
  {
   "cell_type": "code",
   "execution_count": null,
   "metadata": {},
   "outputs": [],
   "source": []
  }
 ],
 "metadata": {
  "kernelspec": {
   "display_name": "Python 3",
   "language": "python",
   "name": "python3"
  },
  "language_info": {
   "codemirror_mode": {
    "name": "ipython",
    "version": 3
   },
   "file_extension": ".py",
   "mimetype": "text/x-python",
   "name": "python",
   "nbconvert_exporter": "python",
   "pygments_lexer": "ipython3",
   "version": "3.5.2"
  }
 },
 "nbformat": 4,
 "nbformat_minor": 2
}
