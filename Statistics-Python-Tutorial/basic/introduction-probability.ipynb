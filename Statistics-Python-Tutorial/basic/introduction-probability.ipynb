{
 "cells": [
  {
   "cell_type": "code",
   "execution_count": 1,
   "metadata": {},
   "outputs": [],
   "source": [
    "import numpy as np"
   ]
  },
  {
   "cell_type": "markdown",
   "metadata": {},
   "source": [
    "Suppose that the Penn State Parking Office claims that two-thirds (67%) of Penn State students maintain a car in State College.  Then, suppose we take a random sample of 100 Penn State students and determine that the proportion of students in the sample who maintain a car in State College is:"
   ]
  },
  {
   "cell_type": "code",
   "execution_count": 2,
   "metadata": {},
   "outputs": [
    {
     "data": {
      "text/plain": [
       "0.69"
      ]
     },
     "execution_count": 2,
     "metadata": {},
     "output_type": "execute_result"
    }
   ],
   "source": [
    "69/100"
   ]
  },
  {
   "cell_type": "markdown",
   "metadata": {},
   "source": [
    "## Events\n",
    "\n",
    "Definition. An event — denoted with capital letters A, B, C, ... — is just a subset of the sample space S. That is, for example A ⊂ S, where \"⊂\" denotes \"is a subset of.\""
   ]
  },
  {
   "cell_type": "markdown",
   "metadata": {},
   "source": [
    "S = {0, 1, 2, 3, ...}"
   ]
  },
  {
   "cell_type": "markdown",
   "metadata": {},
   "source": [
    "If A is the event that a randomly selected student owns no jeans: \n",
    "\n",
    "A = student owns none = {0}"
   ]
  },
  {
   "cell_type": "markdown",
   "metadata": {},
   "source": [
    "If B is the event that a randomly selected student owns some jeans:\n",
    "\n",
    "B = student owns some = {1, 2, 3, ...}"
   ]
  },
  {
   "cell_type": "markdown",
   "metadata": {},
   "source": [
    "If C is the event that a randomly selected student owns no more than five pairs of jeans:\n",
    "\n",
    "C = student owns no more than five pairs = {0, 1, 2, 3, 4, 5}"
   ]
  },
  {
   "cell_type": "markdown",
   "metadata": {},
   "source": [
    "And, if D is the event that a randomly selected student owns an odd number of pairs of jeans:\n",
    "\n",
    "D = student owns an odd number = {1, 3, 5, ...}"
   ]
  },
  {
   "cell_type": "markdown",
   "metadata": {},
   "source": [
    "Since events and sample spaces are just sets, let's review the algebra of sets:\n",
    "\n",
    "1. Ø is the \"null set\" (or \"empty set\")\n",
    "2. C ∪ D = \"union\" = the elements in C or D or both\n",
    "3. A ∩ B = \"intersection\" = the elements in A and B.  If A ∩ B = Ø, then A and B are called \"mutually exclusive events\" (or \"disjoint events\").\n",
    "4. D' = Dc = \"complement\" = the elements not in D\n",
    "5. If E ∪ F ∪ G ∪ ... = S, then E, F, G, and so on are called \"exhaustive events.\""
   ]
  },
  {
   "cell_type": "markdown",
   "metadata": {},
   "source": [
    "## Informally\n",
    "\n",
    "Probability is a number between 0 and 1, where:\n",
    "\n",
    "a number close to 0 means \"not likely\"\n",
    "\n",
    "a number close to 1 means \"quite likely\""
   ]
  },
  {
   "cell_type": "markdown",
   "metadata": {},
   "source": [
    "![alt text](https://onlinecourses.science.psu.edu/stat414/sites/onlinecourses.science.psu.edu.stat414/files/lesson02/treedata.gif)"
   ]
  },
  {
   "cell_type": "markdown",
   "metadata": {},
   "source": [
    "What is the probability that one tree selected at random is large?\n",
    "\n",
    "Solution. There are 68 large trees out of 200 total trees, so the relative frequency approach would tell us that the probability that a tree selected at random is large is 68/200 = 0.34."
   ]
  },
  {
   "cell_type": "markdown",
   "metadata": {},
   "source": [
    "What is the probability that one tree selected at random is diseased?\n",
    "\n",
    "Solution. There are 37 diseased trees out of 200 total trees, so the relative frequency approach would tell us that the probability that a tree selected at random is diseased is 37/200 = 0.185."
   ]
  },
  {
   "cell_type": "markdown",
   "metadata": {},
   "source": [
    "What is the probability that one tree selected at random is both small and diseased?\n",
    "\n",
    "Solution. There are 8 small, diseased trees out of 200 total trees, so the relative frequency approach would tell us that the probability that a tree selected at random is small and diseased is 8/200 = 0.04."
   ]
  },
  {
   "cell_type": "markdown",
   "metadata": {},
   "source": [
    "## Five Theorems\n",
    "\n",
    "Now, let's use the axioms of probability to derive yet more helpful probability rules.  We'll work through five theorems in all, in each case first stating the theorem and then proving it.  Then, once we've added the five theorems to our probability tool box, we'll close this lesson by applying the theorems to a few examples. "
   ]
  },
  {
   "cell_type": "markdown",
   "metadata": {},
   "source": [
    "Theorem #1.  P(A) = 1 − P(A')."
   ]
  },
  {
   "cell_type": "markdown",
   "metadata": {},
   "source": [
    "Theorem #2.  P(Ø) = 0."
   ]
  },
  {
   "cell_type": "markdown",
   "metadata": {},
   "source": [
    "Theorem #3.  If events A and B are such that A ⊆ B, then P(A) ≤ P(B)."
   ]
  },
  {
   "cell_type": "markdown",
   "metadata": {},
   "source": [
    "Theorem #4.  P(A) ≤ 1."
   ]
  },
  {
   "cell_type": "markdown",
   "metadata": {},
   "source": [
    "Theorem #5.  For any two events A and B, P(A ∪ B) = P(A) + P(B) − P(A ∩ B)."
   ]
  }
 ],
 "metadata": {
  "kernelspec": {
   "display_name": "Python 3",
   "language": "python",
   "name": "python3"
  },
  "language_info": {
   "codemirror_mode": {
    "name": "ipython",
    "version": 3
   },
   "file_extension": ".py",
   "mimetype": "text/x-python",
   "name": "python",
   "nbconvert_exporter": "python",
   "pygments_lexer": "ipython3",
   "version": "3.5.2"
  }
 },
 "nbformat": 4,
 "nbformat_minor": 2
}
