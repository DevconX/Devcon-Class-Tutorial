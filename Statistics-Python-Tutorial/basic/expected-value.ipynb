{
 "cells": [
  {
   "cell_type": "code",
   "execution_count": 1,
   "metadata": {},
   "outputs": [],
   "source": [
    "import numpy as np"
   ]
  },
  {
   "cell_type": "markdown",
   "metadata": {},
   "source": [
    "Expected value is exactly what you might think it means intuitively: the return you can expect for some kind of action, like how many questions you might get right if you guess on a multiple choice test.\n",
    "\n",
    "For example, if you take a 20 question multiple-choice test with A,B,C,D as the answers, and you guess all “A”,\n",
    "\n",
    "then you can expect to get 25% right (5 out of 20). The math behind this kind of expected value is:\n",
    "\n",
    "The probability (P) of getting a question right if you guess: .25\n",
    "\n",
    "The number of questions on the test (n)*: 20\n",
    "\n",
    "P x n = .25 x 20 = 5"
   ]
  },
  {
   "cell_type": "markdown",
   "metadata": {},
   "source": [
    "You buy one \\$10 raffle ticket for a new car valued at $15,000. Two thousand tickets are sold. What is the expected value of your gain?"
   ]
  },
  {
   "cell_type": "code",
   "execution_count": 6,
   "metadata": {},
   "outputs": [],
   "source": [
    "gain_win = 14990\n",
    "gain_lose = -10"
   ]
  },
  {
   "cell_type": "markdown",
   "metadata": {},
   "source": [
    "Seeing as 2,000 tickets were sold, you have a 1/2000 chance of winning. And you also have a 1,999/2,000 probability chance of losing."
   ]
  },
  {
   "cell_type": "code",
   "execution_count": 7,
   "metadata": {},
   "outputs": [],
   "source": [
    "probability_win = 1/2000\n",
    "probability_lose = 1999/2000"
   ]
  },
  {
   "cell_type": "code",
   "execution_count": 8,
   "metadata": {},
   "outputs": [
    {
     "data": {
      "text/plain": [
       "-2.500000000000001"
      ]
     },
     "execution_count": 8,
     "metadata": {},
     "output_type": "execute_result"
    }
   ],
   "source": [
    "gain_win * probability_win + gain_lose * probability_lose"
   ]
  }
 ],
 "metadata": {
  "kernelspec": {
   "display_name": "Python 3",
   "language": "python",
   "name": "python3"
  },
  "language_info": {
   "codemirror_mode": {
    "name": "ipython",
    "version": 3
   },
   "file_extension": ".py",
   "mimetype": "text/x-python",
   "name": "python",
   "nbconvert_exporter": "python",
   "pygments_lexer": "ipython3",
   "version": "3.5.2"
  }
 },
 "nbformat": 4,
 "nbformat_minor": 2
}
