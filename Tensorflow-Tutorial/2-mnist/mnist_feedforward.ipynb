{
  "nbformat": 4,
  "nbformat_minor": 0,
  "metadata": {
    "colab": {
      "name": "mnist-feedforward.ipynb",
      "version": "0.3.2",
      "views": {},
      "default_view": {},
      "provenance": [],
      "collapsed_sections": []
    },
    "kernelspec": {
      "name": "python3",
      "display_name": "Python 3"
    }
  },
  "cells": [
    {
      "metadata": {
        "id": "OvypSas8DSb5",
        "colab_type": "code",
        "colab": {
          "autoexec": {
            "startup": false,
            "wait_interval": 0
          },
          "output_extras": [
            {
              "item_id": 2
            }
          ],
          "base_uri": "https://localhost:8080/",
          "height": 85
        },
        "outputId": "0541c8b3-b8ff-4744-a827-76f588a23f5b",
        "executionInfo": {
          "status": "ok",
          "timestamp": 1519136927432,
          "user_tz": -480,
          "elapsed": 2678,
          "user": {
            "displayName": "Husein Zolkepli",
            "photoUrl": "//lh3.googleusercontent.com/-Yinyd6RAUN4/AAAAAAAAAAI/AAAAAAAAA2E/eGXYE6J81Lc/s50-c-k-no/photo.jpg",
            "userId": "114090932861667297302"
          }
        }
      },
      "cell_type": "code",
      "source": [
        "import numpy as np\n",
        "import tensorflow as tf\n",
        "import matplotlib.pyplot as plt\n",
        "import seaborn as sns\n",
        "sns.set()\n",
        "from tensorflow.examples.tutorials.mnist import input_data\n",
        "mnist = input_data.read_data_sets('MNIST_data', one_hot=True)"
      ],
      "execution_count": 1,
      "outputs": [
        {
          "output_type": "stream",
          "text": [
            "Extracting MNIST_data/train-images-idx3-ubyte.gz\n",
            "Extracting MNIST_data/train-labels-idx1-ubyte.gz\n",
            "Extracting MNIST_data/t10k-images-idx3-ubyte.gz\n",
            "Extracting MNIST_data/t10k-labels-idx1-ubyte.gz\n"
          ],
          "name": "stdout"
        }
      ]
    },
    {
      "metadata": {
        "id": "toXouBAfe_Zg",
        "colab_type": "code",
        "colab": {
          "autoexec": {
            "startup": false,
            "wait_interval": 0
          },
          "output_extras": [
            {
              "item_id": 1
            }
          ],
          "base_uri": "https://localhost:8080/",
          "height": 85
        },
        "outputId": "b1d6f660-fd51-4186-c20d-5c82f1da1166",
        "executionInfo": {
          "status": "ok",
          "timestamp": 1519136929186,
          "user_tz": -480,
          "elapsed": 666,
          "user": {
            "displayName": "Husein Zolkepli",
            "photoUrl": "//lh3.googleusercontent.com/-Yinyd6RAUN4/AAAAAAAAAAI/AAAAAAAAA2E/eGXYE6J81Lc/s50-c-k-no/photo.jpg",
            "userId": "114090932861667297302"
          }
        }
      },
      "cell_type": "code",
      "source": [
        "print('total train dataset', mnist.train.images.shape[0])\n",
        "print('total test dataset', mnist.test.images.shape[0])\n",
        "print('dimension of picture', mnist.train.images.shape[1])\n",
        "print('total unique classes', np.unique(np.argmax(mnist.train.labels,axis=1)))"
      ],
      "execution_count": 2,
      "outputs": [
        {
          "output_type": "stream",
          "text": [
            "total train dataset 55000\n",
            "total test dataset 10000\n",
            "dimension of picture 784\n",
            "total unique classes [0 1 2 3 4 5 6 7 8 9]\n"
          ],
          "name": "stdout"
        }
      ]
    },
    {
      "metadata": {
        "id": "MITtUzqLf1tt",
        "colab_type": "code",
        "colab": {
          "autoexec": {
            "startup": false,
            "wait_interval": 0
          }
        }
      },
      "cell_type": "code",
      "source": [
        "class Feed_Forward:\n",
        "  def __init__(self, input_size, output_size, size_layer, learning_rate):\n",
        "    self.X = tf.placeholder(tf.float32, (None, input_size))\n",
        "    self.Y = tf.placeholder(tf.float32, (None, output_size))\n",
        "    w1 = tf.Variable(tf.random_normal([input_size, size_layer]))\n",
        "    b1 = tf.Variable(tf.random_normal([size_layer]))\n",
        "    w2 = tf.Variable(tf.random_normal([size_layer, size_layer]))\n",
        "    b2 = tf.Variable(tf.random_normal([size_layer]))\n",
        "    w3 = tf.Variable(tf.random_normal([size_layer, output_size]))\n",
        "    b3 = tf.Variable(tf.random_normal([output_size]))\n",
        "    feed = tf.nn.relu(tf.matmul(self.X, w1) + b1)\n",
        "    feed = tf.nn.relu(tf.matmul(feed, w2) + b2)\n",
        "    self.logits = tf.matmul(feed, w3) + b3\n",
        "    self.cost = tf.reduce_mean(tf.nn.softmax_cross_entropy_with_logits(labels=self.Y, logits=self.logits))\n",
        "    self.optimizer = tf.train.AdamOptimizer(learning_rate).minimize(self.cost)"
      ],
      "execution_count": 0,
      "outputs": []
    },
    {
      "metadata": {
        "id": "sPq3zxV5izkW",
        "colab_type": "code",
        "colab": {
          "autoexec": {
            "startup": false,
            "wait_interval": 0
          }
        }
      },
      "cell_type": "code",
      "source": [
        "SIZE = 256\n",
        "EPOCH = 10\n",
        "BATCH_SIZE = 128\n",
        "LEARNING_RATE = 0.001"
      ],
      "execution_count": 0,
      "outputs": []
    },
    {
      "metadata": {
        "id": "eC3Q7yREgZQe",
        "colab_type": "code",
        "colab": {
          "autoexec": {
            "startup": false,
            "wait_interval": 0
          },
          "output_extras": [
            {
              "item_id": 1
            }
          ],
          "base_uri": "https://localhost:8080/",
          "height": 153
        },
        "outputId": "c0ac1d37-b2a9-44c5-c5b5-78277c904685",
        "executionInfo": {
          "status": "ok",
          "timestamp": 1519136932168,
          "user_tz": -480,
          "elapsed": 1032,
          "user": {
            "displayName": "Husein Zolkepli",
            "photoUrl": "//lh3.googleusercontent.com/-Yinyd6RAUN4/AAAAAAAAAAI/AAAAAAAAA2E/eGXYE6J81Lc/s50-c-k-no/photo.jpg",
            "userId": "114090932861667297302"
          }
        }
      },
      "cell_type": "code",
      "source": [
        "tf.reset_default_graph()\n",
        "sess = tf.InteractiveSession()\n",
        "model = Feed_Forward(mnist.train.images.shape[1], np.unique(np.argmax(mnist.train.labels,axis=1)).shape[0], SIZE, LEARNING_RATE)\n",
        "sess.run(tf.global_variables_initializer())"
      ],
      "execution_count": 5,
      "outputs": [
        {
          "output_type": "stream",
          "text": [
            "WARNING:tensorflow:From <ipython-input-3-787a177e4037>:14: softmax_cross_entropy_with_logits (from tensorflow.python.ops.nn_ops) is deprecated and will be removed in a future version.\n",
            "Instructions for updating:\n",
            "\n",
            "Future major versions of TensorFlow will allow gradients to flow\n",
            "into the labels input on backprop by default.\n",
            "\n",
            "See tf.nn.softmax_cross_entropy_with_logits_v2.\n",
            "\n"
          ],
          "name": "stdout"
        }
      ]
    },
    {
      "metadata": {
        "id": "ux5g1CFTjGb2",
        "colab_type": "code",
        "colab": {
          "autoexec": {
            "startup": false,
            "wait_interval": 0
          },
          "output_extras": [
            {
              "item_id": 10
            }
          ],
          "base_uri": "https://localhost:8080/",
          "height": 187
        },
        "outputId": "cb5e6e5e-0f53-48fe-e024-11f598a8425a",
        "executionInfo": {
          "status": "ok",
          "timestamp": 1519136960983,
          "user_tz": -480,
          "elapsed": 28671,
          "user": {
            "displayName": "Husein Zolkepli",
            "photoUrl": "//lh3.googleusercontent.com/-Yinyd6RAUN4/AAAAAAAAAAI/AAAAAAAAA2E/eGXYE6J81Lc/s50-c-k-no/photo.jpg",
            "userId": "114090932861667297302"
          }
        }
      },
      "cell_type": "code",
      "source": [
        "LOSS, ACCURACY, ACCURACY_TEST = [], [], []\n",
        "for i in range(EPOCH):\n",
        "  total_loss, total_acc = 0, 0\n",
        "  for k in range(0, (mnist.train.images.shape[0] // BATCH_SIZE) * BATCH_SIZE, BATCH_SIZE):\n",
        "    batch_x = mnist.train.images[k:k+BATCH_SIZE, :]\n",
        "    batch_y = mnist.train.labels[k:k+BATCH_SIZE, :]\n",
        "    logits, loss, _ = sess.run([model.logits, model.cost, model.optimizer], feed_dict={model.X:batch_x, model.Y:batch_y})\n",
        "    acc = np.mean(np.argmax(logits,axis=1)==np.argmax(batch_y,axis=1))\n",
        "    total_loss += loss\n",
        "    total_acc += acc\n",
        "  total_loss /= (mnist.train.images.shape[0] // BATCH_SIZE)\n",
        "  total_acc /= (mnist.train.images.shape[0] // BATCH_SIZE)\n",
        "  LOSS.append(total_loss)\n",
        "  ACCURACY.append(total_acc)\n",
        "  total_acc = 0\n",
        "  for k in range(0, (mnist.test.images.shape[0] // BATCH_SIZE) * BATCH_SIZE, BATCH_SIZE):\n",
        "    batch_x = mnist.test.images[k:k+BATCH_SIZE, :]\n",
        "    batch_y = mnist.test.labels[k:k+BATCH_SIZE, :]\n",
        "    logits = sess.run(model.logits, feed_dict={model.X:batch_x})\n",
        "    acc = np.mean(np.argmax(logits,axis=1)==np.argmax(batch_y,axis=1))\n",
        "    total_acc += acc\n",
        "  total_acc /= (mnist.test.images.shape[0] // BATCH_SIZE)\n",
        "  ACCURACY_TEST.append(total_acc)\n",
        "  print('epoch %d, loss %f, training accuracy %f, testing accuracy %f'%(i+1, LOSS[-1], ACCURACY[-1], ACCURACY_TEST[-1]))"
      ],
      "execution_count": 6,
      "outputs": [
        {
          "output_type": "stream",
          "text": [
            "epoch 1, loss 173.025740, training accuracy 0.703580, testing accuracy 0.857572\n",
            "epoch 2, loss 44.955252, training accuracy 0.869282, testing accuracy 0.895433\n",
            "epoch 3, loss 29.083373, training accuracy 0.902043, testing accuracy 0.909155\n",
            "epoch 4, loss 20.912671, training accuracy 0.920728, testing accuracy 0.918970\n",
            "epoch 5, loss 15.621223, training accuracy 0.934331, testing accuracy 0.923878\n",
            "epoch 6, loss 12.023009, training accuracy 0.942180, testing accuracy 0.928085\n",
            "epoch 7, loss 9.130637, training accuracy 0.951613, testing accuracy 0.931691\n",
            "epoch 8, loss 7.082756, training accuracy 0.957805, testing accuracy 0.933494\n",
            "epoch 9, loss 5.457302, training accuracy 0.964379, testing accuracy 0.935797\n",
            "epoch 10, loss 4.298011, training accuracy 0.968422, testing accuracy 0.934295\n"
          ],
          "name": "stdout"
        }
      ]
    },
    {
      "metadata": {
        "id": "rWIKkx4UlSOt",
        "colab_type": "code",
        "colab": {
          "autoexec": {
            "startup": false,
            "wait_interval": 0
          },
          "output_extras": [
            {
              "item_id": 1
            }
          ],
          "base_uri": "https://localhost:8080/",
          "height": 320
        },
        "outputId": "3f63eacb-b577-4983-9b1e-455195e2e6c9",
        "executionInfo": {
          "status": "ok",
          "timestamp": 1519136961923,
          "user_tz": -480,
          "elapsed": 919,
          "user": {
            "displayName": "Husein Zolkepli",
            "photoUrl": "//lh3.googleusercontent.com/-Yinyd6RAUN4/AAAAAAAAAAI/AAAAAAAAA2E/eGXYE6J81Lc/s50-c-k-no/photo.jpg",
            "userId": "114090932861667297302"
          }
        }
      },
      "cell_type": "code",
      "source": [
        "plt.figure(figsize=(10,5))\n",
        "plt.plot(ACCURACY, label='training accuracy')\n",
        "plt.plot(ACCURACY_TEST, label='testing accuracy')\n",
        "plt.legend()\n",
        "plt.show()"
      ],
      "execution_count": 7,
      "outputs": [
        {
          "output_type": "display_data",
          "data": {
            "image/png": "[encoded data removed]",
            "text/plain": [
              "<matplotlib.figure.Figure at 0x7f422b0a0ef0>"
            ]
          },
          "metadata": {
            "tags": []
          }
        }
      ]
    }
  ]
}