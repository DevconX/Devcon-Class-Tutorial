{
  "nbformat": 4,
  "nbformat_minor": 0,
  "metadata": {
    "colab": {
      "name": "mnist-cnn.ipynb",
      "version": "0.3.2",
      "views": {},
      "default_view": {},
      "provenance": [],
      "collapsed_sections": []
    },
    "kernelspec": {
      "name": "python3",
      "display_name": "Python 3"
    }
  },
  "cells": [
    {
      "metadata": {
        "id": "qggQjjyImsZo",
        "colab_type": "code",
        "colab": {
          "autoexec": {
            "startup": false,
            "wait_interval": 0
          },
          "output_extras": [
            {
              "item_id": 1
            }
          ],
          "base_uri": "https://localhost:8080/",
          "height": 85
        },
        "outputId": "fe818666-0e3f-4bd7-b68e-ac5e3d6c8d9e",
        "executionInfo": {
          "status": "ok",
          "timestamp": 1519138382565,
          "user_tz": -480,
          "elapsed": 5787,
          "user": {
            "displayName": "Husein Zolkepli",
            "photoUrl": "//lh3.googleusercontent.com/-Yinyd6RAUN4/AAAAAAAAAAI/AAAAAAAAA2E/eGXYE6J81Lc/s50-c-k-no/photo.jpg",
            "userId": "114090932861667297302"
          }
        }
      },
      "cell_type": "code",
      "source": [
        "import numpy as np\n",
        "import tensorflow as tf\n",
        "import matplotlib.pyplot as plt\n",
        "import seaborn as sns\n",
        "sns.set()\n",
        "from tensorflow.examples.tutorials.mnist import input_data\n",
        "mnist = input_data.read_data_sets('MNIST_data', one_hot=True)"
      ],
      "execution_count": 1,
      "outputs": [
        {
          "output_type": "stream",
          "text": [
            "Extracting MNIST_data/train-images-idx3-ubyte.gz\n",
            "Extracting MNIST_data/train-labels-idx1-ubyte.gz\n",
            "Extracting MNIST_data/t10k-images-idx3-ubyte.gz\n",
            "Extracting MNIST_data/t10k-labels-idx1-ubyte.gz\n"
          ],
          "name": "stdout"
        }
      ]
    },
    {
      "metadata": {
        "id": "mtFL8kqbn_Ye",
        "colab_type": "code",
        "colab": {
          "autoexec": {
            "startup": false,
            "wait_interval": 0
          },
          "output_extras": [
            {
              "item_id": 1
            }
          ],
          "base_uri": "https://localhost:8080/",
          "height": 85
        },
        "outputId": "ff256b77-5d0b-4bd9-eab2-9cdf51e9fbb4",
        "executionInfo": {
          "status": "ok",
          "timestamp": 1519138383795,
          "user_tz": -480,
          "elapsed": 862,
          "user": {
            "displayName": "Husein Zolkepli",
            "photoUrl": "//lh3.googleusercontent.com/-Yinyd6RAUN4/AAAAAAAAAAI/AAAAAAAAA2E/eGXYE6J81Lc/s50-c-k-no/photo.jpg",
            "userId": "114090932861667297302"
          }
        }
      },
      "cell_type": "code",
      "source": [
        "print('total train dataset', mnist.train.images.shape[0])\n",
        "print('total test dataset', mnist.test.images.shape[0])\n",
        "print('dimension of picture', mnist.train.images.shape[1])\n",
        "print('total unique classes', np.unique(np.argmax(mnist.train.labels,axis=1)))"
      ],
      "execution_count": 2,
      "outputs": [
        {
          "output_type": "stream",
          "text": [
            "total train dataset 55000\n",
            "total test dataset 10000\n",
            "dimension of picture 784\n",
            "total unique classes [0 1 2 3 4 5 6 7 8 9]\n"
          ],
          "name": "stdout"
        }
      ]
    },
    {
      "metadata": {
        "id": "i2dvxai5oApa",
        "colab_type": "code",
        "colab": {
          "autoexec": {
            "startup": false,
            "wait_interval": 0
          }
        }
      },
      "cell_type": "code",
      "source": [
        "class CNN:\n",
        "  def __init__(self, input_size, output_size, size_layer, learning_rate):\n",
        "    self.X = tf.placeholder(tf.float32, (None, input_size,input_size,1))\n",
        "    self.Y = tf.placeholder(tf.float32, (None, output_size))\n",
        "    kernel1 = tf.Variable(tf.random_normal([3, 3, 1, 8]))\n",
        "    b1 = tf.Variable(tf.random_normal([8]))\n",
        "    kernel2 = tf.Variable(tf.random_normal([3, 3, 8, 16]))\n",
        "    b2 = tf.Variable(tf.random_normal([16]))\n",
        "    kernel3 = tf.Variable(tf.random_normal([3, 3, 16, 32]))\n",
        "    b3 = tf.Variable(tf.random_normal([32]))\n",
        "    feed = tf.nn.relu(tf.nn.conv2d(self.X, kernel1, [1,1,1,1], 'SAME') + b1)\n",
        "    pool = tf.nn.max_pool(feed, ksize = [1, 3, 3, 1], strides = [1, 2, 2, 1], padding = 'SAME')\n",
        "    feed = tf.nn.relu(tf.nn.conv2d(pool, kernel2, [1,1,1,1], 'SAME') + b2)\n",
        "    pool = tf.nn.max_pool(feed, ksize = [1, 3, 3, 1], strides = [1, 2, 2, 1], padding = 'SAME')\n",
        "    feed = tf.nn.relu(tf.nn.conv2d(pool, kernel3, [1,1,1,1], 'SAME') + b3)\n",
        "    pool = tf.nn.max_pool(feed, ksize = [1, 3, 3, 1], strides = [1, 2, 2, 1], padding = 'SAME')\n",
        "    shape_pulling = int(pool.shape[1]) * int(pool.shape[2]) * int(pool.shape[3])\n",
        "    w1 = tf.Variable(tf.random_normal([shape_pulling, size_layer]))\n",
        "    w2 = tf.Variable(tf.random_normal([size_layer, output_size]))\n",
        "    flatten_conv = tf.reshape(pool, (-1, shape_pulling))\n",
        "    feed = tf.nn.relu(tf.matmul(flatten_conv, w1))\n",
        "    self.logits = tf.matmul(feed, w2)\n",
        "    self.cost = tf.reduce_mean(tf.nn.softmax_cross_entropy_with_logits(labels=self.Y, logits=self.logits))\n",
        "    self.optimizer = tf.train.AdamOptimizer(learning_rate).minimize(self.cost)"
      ],
      "execution_count": 0,
      "outputs": []
    },
    {
      "metadata": {
        "id": "bYkHCNotrafg",
        "colab_type": "code",
        "colab": {
          "autoexec": {
            "startup": false,
            "wait_interval": 0
          }
        }
      },
      "cell_type": "code",
      "source": [
        "SIZE = 256\n",
        "EPOCH = 10\n",
        "BATCH_SIZE = 128\n",
        "LEARNING_RATE = 0.001\n",
        "INPUT_SIZE = int(np.sqrt(mnist.train.images.shape[1]))"
      ],
      "execution_count": 0,
      "outputs": []
    },
    {
      "metadata": {
        "id": "ccixlRT_rkI8",
        "colab_type": "code",
        "colab": {
          "autoexec": {
            "startup": false,
            "wait_interval": 0
          },
          "output_extras": [
            {
              "item_id": 1
            }
          ],
          "base_uri": "https://localhost:8080/",
          "height": 153
        },
        "outputId": "3b5bf624-c95d-4acc-b042-49b1e2f7eead",
        "executionInfo": {
          "status": "ok",
          "timestamp": 1519138387971,
          "user_tz": -480,
          "elapsed": 1051,
          "user": {
            "displayName": "Husein Zolkepli",
            "photoUrl": "//lh3.googleusercontent.com/-Yinyd6RAUN4/AAAAAAAAAAI/AAAAAAAAA2E/eGXYE6J81Lc/s50-c-k-no/photo.jpg",
            "userId": "114090932861667297302"
          }
        }
      },
      "cell_type": "code",
      "source": [
        "tf.reset_default_graph()\n",
        "sess = tf.InteractiveSession()\n",
        "model = CNN(INPUT_SIZE, np.unique(np.argmax(mnist.train.labels,axis=1)).shape[0], SIZE, LEARNING_RATE)\n",
        "sess.run(tf.global_variables_initializer())"
      ],
      "execution_count": 5,
      "outputs": [
        {
          "output_type": "stream",
          "text": [
            "WARNING:tensorflow:From <ipython-input-3-780af9e879b1>:23: softmax_cross_entropy_with_logits (from tensorflow.python.ops.nn_ops) is deprecated and will be removed in a future version.\n",
            "Instructions for updating:\n",
            "\n",
            "Future major versions of TensorFlow will allow gradients to flow\n",
            "into the labels input on backprop by default.\n",
            "\n",
            "See tf.nn.softmax_cross_entropy_with_logits_v2.\n",
            "\n"
          ],
          "name": "stdout"
        }
      ]
    },
    {
      "metadata": {
        "id": "HTcXISSGrm4i",
        "colab_type": "code",
        "colab": {
          "autoexec": {
            "startup": false,
            "wait_interval": 0
          },
          "output_extras": [
            {
              "item_id": 10
            }
          ],
          "base_uri": "https://localhost:8080/",
          "height": 187
        },
        "outputId": "46090d09-5f4f-46f7-a853-c5082abb8cba",
        "executionInfo": {
          "status": "ok",
          "timestamp": 1519138678321,
          "user_tz": -480,
          "elapsed": 289380,
          "user": {
            "displayName": "Husein Zolkepli",
            "photoUrl": "//lh3.googleusercontent.com/-Yinyd6RAUN4/AAAAAAAAAAI/AAAAAAAAA2E/eGXYE6J81Lc/s50-c-k-no/photo.jpg",
            "userId": "114090932861667297302"
          }
        }
      },
      "cell_type": "code",
      "source": [
        "LOSS, ACCURACY, ACCURACY_TEST = [], [], []\n",
        "for i in range(EPOCH):\n",
        "  total_loss, total_acc = 0, 0\n",
        "  for k in range(0, (mnist.train.images.shape[0] // BATCH_SIZE) * BATCH_SIZE, BATCH_SIZE):\n",
        "    batch_x = mnist.train.images[k:k+BATCH_SIZE, :].reshape((-1, INPUT_SIZE, INPUT_SIZE, 1))\n",
        "    batch_y = mnist.train.labels[k:k+BATCH_SIZE, :]\n",
        "    logits, loss, _ = sess.run([model.logits, model.cost, model.optimizer], feed_dict={model.X:batch_x, model.Y:batch_y})\n",
        "    acc = np.mean(np.argmax(logits,axis=1)==np.argmax(batch_y,axis=1))\n",
        "    total_loss += loss\n",
        "    total_acc += acc\n",
        "  total_loss /= (mnist.train.images.shape[0] // BATCH_SIZE)\n",
        "  total_acc /= (mnist.train.images.shape[0] // BATCH_SIZE)\n",
        "  LOSS.append(total_loss)\n",
        "  ACCURACY.append(total_acc)\n",
        "  total_acc = 0\n",
        "  for k in range(0, (mnist.test.images.shape[0] // BATCH_SIZE) * BATCH_SIZE, BATCH_SIZE):\n",
        "    batch_x = mnist.test.images[k:k+BATCH_SIZE, :].reshape((-1, INPUT_SIZE, INPUT_SIZE, 1))\n",
        "    batch_y = mnist.test.labels[k:k+BATCH_SIZE, :]\n",
        "    logits = sess.run(model.logits, feed_dict={model.X:batch_x})\n",
        "    acc = np.mean(np.argmax(logits,axis=1)==np.argmax(batch_y,axis=1))\n",
        "    total_acc += acc\n",
        "  total_acc /= (mnist.test.images.shape[0] // BATCH_SIZE)\n",
        "  ACCURACY_TEST.append(total_acc)\n",
        "  print('epoch %d, loss %f, training accuracy %f, testing accuracy %f'%(i+1, LOSS[-1], ACCURACY[-1], ACCURACY_TEST[-1]))"
      ],
      "execution_count": 6,
      "outputs": [
        {
          "output_type": "stream",
          "text": [
            "epoch 1, loss 2401.570043, training accuracy 0.451322, testing accuracy 0.696715\n",
            "epoch 2, loss 417.922594, training accuracy 0.758195, testing accuracy 0.812600\n",
            "epoch 3, loss 255.904756, training accuracy 0.827269, testing accuracy 0.855369\n",
            "epoch 4, loss 189.581769, training accuracy 0.859721, testing accuracy 0.878706\n",
            "epoch 5, loss 148.876516, training accuracy 0.880336, testing accuracy 0.889924\n",
            "epoch 6, loss 121.784779, training accuracy 0.895615, testing accuracy 0.903446\n",
            "epoch 7, loss 103.611532, training accuracy 0.906214, testing accuracy 0.911558\n",
            "epoch 8, loss 90.015510, training accuracy 0.915155, testing accuracy 0.921975\n",
            "epoch 9, loss 77.357625, training accuracy 0.921529, testing accuracy 0.925080\n",
            "epoch 10, loss 68.780834, training accuracy 0.926573, testing accuracy 0.928886\n"
          ],
          "name": "stdout"
        }
      ]
    },
    {
      "metadata": {
        "id": "O6czE5aks69j",
        "colab_type": "code",
        "colab": {
          "autoexec": {
            "startup": false,
            "wait_interval": 0
          },
          "output_extras": [
            {
              "item_id": 1
            }
          ],
          "base_uri": "https://localhost:8080/",
          "height": 320
        },
        "outputId": "c6728bd7-8db9-487d-8737-d75072fc9e43",
        "executionInfo": {
          "status": "ok",
          "timestamp": 1519138679660,
          "user_tz": -480,
          "elapsed": 1322,
          "user": {
            "displayName": "Husein Zolkepli",
            "photoUrl": "//lh3.googleusercontent.com/-Yinyd6RAUN4/AAAAAAAAAAI/AAAAAAAAA2E/eGXYE6J81Lc/s50-c-k-no/photo.jpg",
            "userId": "114090932861667297302"
          }
        }
      },
      "cell_type": "code",
      "source": [
        "plt.figure(figsize=(10,5))\n",
        "plt.plot(ACCURACY, label='training accuracy')\n",
        "plt.plot(ACCURACY_TEST, label='testing accuracy')\n",
        "plt.legend()\n",
        "plt.show()"
      ],
      "execution_count": 7,
      "outputs": [
        {
          "output_type": "display_data",
          "data": {
            "image/png": "[encoded data removed]",
            "text/plain": [
              "<matplotlib.figure.Figure at 0x7f214f747eb8>"
            ]
          },
          "metadata": {
            "tags": []
          }
        }
      ]
    }
  ]
}