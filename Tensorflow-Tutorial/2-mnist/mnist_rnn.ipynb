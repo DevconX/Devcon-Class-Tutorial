{
  "nbformat": 4,
  "nbformat_minor": 0,
  "metadata": {
    "colab": {
      "name": "mnist-rnn.ipynb",
      "version": "0.3.2",
      "views": {},
      "default_view": {},
      "provenance": [],
      "collapsed_sections": []
    },
    "kernelspec": {
      "name": "python3",
      "display_name": "Python 3"
    }
  },
  "cells": [
    {
      "metadata": {
        "id": "RW8LCHhTyGKq",
        "colab_type": "code",
        "colab": {
          "autoexec": {
            "startup": false,
            "wait_interval": 0
          },
          "output_extras": [
            {
              "item_id": 1
            }
          ],
          "base_uri": "https://localhost:8080/",
          "height": 85
        },
        "outputId": "f8ac1960-b323-45d7-da38-098f9e1fe699",
        "executionInfo": {
          "status": "ok",
          "timestamp": 1519140675728,
          "user_tz": -480,
          "elapsed": 3971,
          "user": {
            "displayName": "Husein Zolkepli",
            "photoUrl": "//lh3.googleusercontent.com/-Yinyd6RAUN4/AAAAAAAAAAI/AAAAAAAAA2E/eGXYE6J81Lc/s50-c-k-no/photo.jpg",
            "userId": "114090932861667297302"
          }
        }
      },
      "cell_type": "code",
      "source": [
        "import numpy as np\n",
        "import tensorflow as tf\n",
        "import matplotlib.pyplot as plt\n",
        "import seaborn as sns\n",
        "sns.set()\n",
        "from tensorflow.examples.tutorials.mnist import input_data\n",
        "mnist = input_data.read_data_sets('MNIST_data', one_hot=True)"
      ],
      "execution_count": 1,
      "outputs": [
        {
          "output_type": "stream",
          "text": [
            "Extracting MNIST_data/train-images-idx3-ubyte.gz\n",
            "Extracting MNIST_data/train-labels-idx1-ubyte.gz\n",
            "Extracting MNIST_data/t10k-images-idx3-ubyte.gz\n",
            "Extracting MNIST_data/t10k-labels-idx1-ubyte.gz\n"
          ],
          "name": "stdout"
        }
      ]
    },
    {
      "metadata": {
        "id": "QtVBb8HzyKih",
        "colab_type": "code",
        "colab": {
          "autoexec": {
            "startup": false,
            "wait_interval": 0
          },
          "output_extras": [
            {
              "item_id": 1
            }
          ],
          "base_uri": "https://localhost:8080/",
          "height": 85
        },
        "outputId": "326d4938-036b-4ee6-f7bf-1ad0a18123fc",
        "executionInfo": {
          "status": "ok",
          "timestamp": 1519140676646,
          "user_tz": -480,
          "elapsed": 744,
          "user": {
            "displayName": "Husein Zolkepli",
            "photoUrl": "//lh3.googleusercontent.com/-Yinyd6RAUN4/AAAAAAAAAAI/AAAAAAAAA2E/eGXYE6J81Lc/s50-c-k-no/photo.jpg",
            "userId": "114090932861667297302"
          }
        }
      },
      "cell_type": "code",
      "source": [
        "print('total train dataset', mnist.train.images.shape[0])\n",
        "print('total test dataset', mnist.test.images.shape[0])\n",
        "print('dimension of picture', mnist.train.images.shape[1])\n",
        "print('total unique classes', np.unique(np.argmax(mnist.train.labels,axis=1)))"
      ],
      "execution_count": 2,
      "outputs": [
        {
          "output_type": "stream",
          "text": [
            "total train dataset 55000\n",
            "total test dataset 10000\n",
            "dimension of picture 784\n",
            "total unique classes [0 1 2 3 4 5 6 7 8 9]\n"
          ],
          "name": "stdout"
        }
      ]
    },
    {
      "metadata": {
        "id": "_mVOYr5nyMLe",
        "colab_type": "code",
        "colab": {
          "autoexec": {
            "startup": false,
            "wait_interval": 0
          }
        }
      },
      "cell_type": "code",
      "source": [
        "class RNN:\n",
        "  def __init__(self, input_size, output_size, num_layer, size_layer, learning_rate):\n",
        "    self.X = tf.placeholder(tf.float32, (None, None,input_size))\n",
        "    self.Y = tf.placeholder(tf.float32, (None, output_size))\n",
        "    def rnn_cell():\n",
        "      return tf.nn.rnn_cell.BasicRNNCell(size_layer)\n",
        "    self.rnn_cells = tf.nn.rnn_cell.MultiRNNCell([rnn_cell() for _ in range(num_layer)])\n",
        "    outputs, states = tf.nn.dynamic_rnn(self.rnn_cells, self.X, dtype=tf.float32)\n",
        "    w1 = tf.Variable(tf.random_normal([size_layer, size_layer]))\n",
        "    w2 = tf.Variable(tf.random_normal([size_layer, output_size]))\n",
        "    feed = tf.nn.relu(tf.matmul(outputs[:,-1], w1))\n",
        "    self.logits = tf.matmul(feed, w2)\n",
        "    self.cost = tf.reduce_mean(tf.nn.softmax_cross_entropy_with_logits(labels=self.Y, logits=self.logits))\n",
        "    self.optimizer = tf.train.AdamOptimizer(learning_rate).minimize(self.cost)"
      ],
      "execution_count": 0,
      "outputs": []
    },
    {
      "metadata": {
        "id": "zxFlt9mWzEfN",
        "colab_type": "code",
        "colab": {
          "autoexec": {
            "startup": false,
            "wait_interval": 0
          }
        }
      },
      "cell_type": "code",
      "source": [
        "SIZE = 64\n",
        "EPOCH = 10\n",
        "BATCH_SIZE = 128\n",
        "LEARNING_RATE = 0.001\n",
        "NUM_LAYER = 2\n",
        "INPUT_SIZE = int(np.sqrt(mnist.train.images.shape[1]))"
      ],
      "execution_count": 0,
      "outputs": []
    },
    {
      "metadata": {
        "id": "AKYl0RBXzILh",
        "colab_type": "code",
        "colab": {
          "autoexec": {
            "startup": false,
            "wait_interval": 0
          }
        }
      },
      "cell_type": "code",
      "source": [
        "tf.reset_default_graph()\n",
        "sess = tf.InteractiveSession()\n",
        "model = RNN(INPUT_SIZE, np.unique(np.argmax(mnist.train.labels,axis=1)).shape[0], SIZE, NUM_LAYER, LEARNING_RATE)\n",
        "sess.run(tf.global_variables_initializer())"
      ],
      "execution_count": 0,
      "outputs": []
    },
    {
      "metadata": {
        "id": "_ZMyJbjzzSF4",
        "colab_type": "code",
        "colab": {
          "autoexec": {
            "startup": false,
            "wait_interval": 0
          },
          "output_extras": [
            {
              "item_id": 3
            }
          ],
          "base_uri": "https://localhost:8080/",
          "height": 68
        },
        "outputId": "4e6c66cc-ffd1-4a7c-d354-d6b4edb3c25e"
      },
      "cell_type": "code",
      "source": [
        "LOSS, ACCURACY, ACCURACY_TEST = [], [], []\n",
        "for i in range(EPOCH):\n",
        "  total_loss, total_acc = 0, 0\n",
        "  for k in range(0, (mnist.train.images.shape[0] // BATCH_SIZE) * BATCH_SIZE, BATCH_SIZE):\n",
        "    batch_x = mnist.train.images[k:k+BATCH_SIZE, :].reshape((-1, INPUT_SIZE, INPUT_SIZE))\n",
        "    batch_x = batch_x / 255.0\n",
        "    batch_y = mnist.train.labels[k:k+BATCH_SIZE, :]\n",
        "    logits, loss, _ = sess.run([model.logits, model.cost, model.optimizer], feed_dict={model.X:batch_x, model.Y:batch_y})\n",
        "    acc = np.mean(np.argmax(logits,axis=1)==np.argmax(batch_y,axis=1))\n",
        "    total_loss += loss\n",
        "    total_acc += acc\n",
        "  total_loss /= (mnist.train.images.shape[0] // BATCH_SIZE)\n",
        "  total_acc /= (mnist.train.images.shape[0] // BATCH_SIZE)\n",
        "  LOSS.append(total_loss)\n",
        "  ACCURACY.append(total_acc)\n",
        "  total_acc = 0\n",
        "  for k in range(0, (mnist.test.images.shape[0] // BATCH_SIZE) * BATCH_SIZE, BATCH_SIZE):\n",
        "    batch_x = mnist.test.images[k:k+BATCH_SIZE, :].reshape((-1, INPUT_SIZE, INPUT_SIZE))\n",
        "    batch_x = batch_x / 255.0\n",
        "    batch_y = mnist.test.labels[k:k+BATCH_SIZE, :]\n",
        "    logits = sess.run(model.logits, feed_dict={model.X:batch_x})\n",
        "    acc = np.mean(np.argmax(logits,axis=1)==np.argmax(batch_y,axis=1))\n",
        "    total_acc += acc\n",
        "  total_acc /= (mnist.test.images.shape[0] // BATCH_SIZE)\n",
        "  ACCURACY_TEST.append(total_acc)\n",
        "  print('epoch %d, loss %f, training accuracy %f, testing accuracy %f'%(i+1, LOSS[-1], ACCURACY[-1], ACCURACY_TEST[-1]))"
      ],
      "execution_count": 0,
      "outputs": [
        {
          "output_type": "stream",
          "text": [
            "epoch 1, loss 2.306706, training accuracy 0.098867, testing accuracy 0.098057\n",
            "epoch 2, loss 2.302585, training accuracy 0.098995, testing accuracy 0.098057\n",
            "epoch 3, loss 2.302585, training accuracy 0.098995, testing accuracy 0.098057\n"
          ],
          "name": "stdout"
        }
      ]
    },
    {
      "metadata": {
        "id": "ddRqIOEH0hkT",
        "colab_type": "code",
        "colab": {
          "autoexec": {
            "startup": false,
            "wait_interval": 0
          }
        }
      },
      "cell_type": "code",
      "source": [
        "plt.figure(figsize=(10,5))\n",
        "plt.plot(ACCURACY, label='training accuracy')\n",
        "plt.plot(ACCURACY_TEST, label='testing accuracy')\n",
        "plt.legend()\n",
        "plt.show()"
      ],
      "execution_count": 0,
      "outputs": []
    }
  ]
}