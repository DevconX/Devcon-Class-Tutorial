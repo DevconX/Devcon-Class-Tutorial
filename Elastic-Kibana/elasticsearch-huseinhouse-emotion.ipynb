{
 "cells": [
  {
   "cell_type": "code",
   "execution_count": 1,
   "metadata": {},
   "outputs": [],
   "source": [
    "from elasticsearch import Elasticsearch\n",
    "import json\n",
    "es = Elasticsearch([{'host': '10.100.7.137', 'port': 9200}])"
   ]
  },
  {
   "cell_type": "code",
   "execution_count": 2,
   "metadata": {},
   "outputs": [
    {
     "data": {
      "text/plain": [
       "True"
      ]
     },
     "execution_count": 2,
     "metadata": {},
     "output_type": "execute_result"
    }
   ],
   "source": [
    "es.ping()"
   ]
  },
  {
   "cell_type": "code",
   "execution_count": 3,
   "metadata": {},
   "outputs": [],
   "source": [
    "with open('huseinhouse-emotion', 'r') as fopen:\n",
    "    husein_emotion = json.loads(fopen.read())"
   ]
  },
  {
   "cell_type": "code",
   "execution_count": 4,
   "metadata": {},
   "outputs": [
    {
     "data": {
      "text/plain": [
       "1551"
      ]
     },
     "execution_count": 4,
     "metadata": {},
     "output_type": "execute_result"
    }
   ],
   "source": [
    "len(husein_emotion['hits']['hits'])"
   ]
  },
  {
   "cell_type": "code",
   "execution_count": 5,
   "metadata": {},
   "outputs": [],
   "source": [
    "from elasticsearch import helpers"
   ]
  },
  {
   "cell_type": "code",
   "execution_count": 6,
   "metadata": {},
   "outputs": [],
   "source": [
    "# list comprehension\n",
    "actions = [\n",
    "  {\n",
    "    \"_index\": \"husein-emotion\",\n",
    "    \"_type\": \"emotion\",\n",
    "    \"_id\": husein_emotion['hits']['hits'][j]['_id'],\n",
    "    \"_source\": husein_emotion['hits']['hits'][j]['_source']\n",
    "  }\n",
    "  for j in range(len(husein_emotion['hits']['hits']))\n",
    "]"
   ]
  },
  {
   "cell_type": "code",
   "execution_count": 9,
   "metadata": {},
   "outputs": [
    {
     "data": {
      "text/plain": [
       "{'_id': '2018-09-01 10:13:16',\n",
       " '_index': 'husein-emotion',\n",
       " '_source': {'datetime': '2018-09-01T10:13:16',\n",
       "  'emotion': 'surprise',\n",
       "  'eyes': 1.2384122677329708,\n",
       "  'mouth': 0.06645108085616241,\n",
       "  'pitch': -31.33,\n",
       "  'roll': 14.9,\n",
       "  'yaw': -13.83},\n",
       " '_type': 'emotion'}"
      ]
     },
     "execution_count": 9,
     "metadata": {},
     "output_type": "execute_result"
    }
   ],
   "source": [
    "actions[0]"
   ]
  },
  {
   "cell_type": "code",
   "execution_count": 8,
   "metadata": {},
   "outputs": [
    {
     "name": "stdout",
     "output_type": "stream",
     "text": [
      "0\n",
      "100\n",
      "200\n",
      "300\n",
      "400\n",
      "500\n",
      "600\n",
      "700\n",
      "800\n",
      "900\n",
      "1000\n",
      "1100\n",
      "1200\n",
      "1300\n",
      "1400\n",
      "1500\n"
     ]
    }
   ],
   "source": [
    "batch_size=100\n",
    "\n",
    "for index in range(0,len(actions),batch_size):\n",
    "    batch=actions[index:min(index+batch_size,len(actions))]\n",
    "    helpers.bulk(es, batch)\n",
    "    print(index)\n",
    "    "
   ]
  },
  {
   "cell_type": "code",
   "execution_count": null,
   "metadata": {},
   "outputs": [],
   "source": []
  }
 ],
 "metadata": {
  "kernelspec": {
   "display_name": "Python 3",
   "language": "python",
   "name": "python3"
  },
  "language_info": {
   "codemirror_mode": {
    "name": "ipython",
    "version": 3
   },
   "file_extension": ".py",
   "mimetype": "text/x-python",
   "name": "python",
   "nbconvert_exporter": "python",
   "pygments_lexer": "ipython3",
   "version": "3.5.2"
  }
 },
 "nbformat": 4,
 "nbformat_minor": 2
}
