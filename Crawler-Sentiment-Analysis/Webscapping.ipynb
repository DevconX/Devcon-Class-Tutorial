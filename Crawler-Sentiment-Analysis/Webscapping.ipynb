{
 "cells": [
  {
   "cell_type": "code",
   "execution_count": 18,
   "metadata": {
    "collapsed": true
   },
   "outputs": [],
   "source": [
    "from urllib.request import Request, urlopen as uReq\n",
    "from bs4 import BeautifulSoup as soup\n",
    "import pandas as pd\n"
   ]
  },
  {
   "cell_type": "code",
   "execution_count": 19,
   "metadata": {
    "collapsed": true
   },
   "outputs": [],
   "source": [
    "def make_soup(website):\n",
    "    req = Request(website, headers={'User-Agent': 'Mozilla/5.0'}) # this says that what type of browser we are using to call the \n",
    "                                                                # html\n",
    "    uClient =uReq(req)\n",
    "    page_html=uClient.read()\n",
    "    uClient.close()\n",
    "    page_soup = soup(page_html,\"html.parser\")\n",
    "    return page_soup\n",
    "\n",
    "# show one website and then show air asia"
   ]
  },
  {
   "cell_type": "code",
   "execution_count": 20,
   "metadata": {
    "collapsed": true
   },
   "outputs": [],
   "source": [
    "w = make_soup('https://booking.airasia.com/Flight/Select?o1=KUL&d1=PQC&dd1=2019-01-07&culture=en-GB&ADT=1&CHD=0&inl=0&c=true&s=false&mon=true&cc=MYR')"
   ]
  },
  {
   "cell_type": "code",
   "execution_count": 21,
   "metadata": {
    "collapsed": true
   },
   "outputs": [],
   "source": [
    "GOOGLE_NEWS_URL = 'https://www.google.com.my/search?q={}&source=lnt&tbm=nws'\n",
    "\n",
    "def forge_url(q):\n",
    "    return GOOGLE_NEWS_URL.format(q.replace(' ','+'))"
   ]
  },
  {
   "cell_type": "code",
   "execution_count": 22,
   "metadata": {
    "collapsed": true
   },
   "outputs": [],
   "source": [
    "news_url = forge_url('avengers')"
   ]
  },
  {
   "cell_type": "code",
   "execution_count": 23,
   "metadata": {
    "collapsed": true
   },
   "outputs": [],
   "source": [
    "website = make_soup(news_url)"
   ]
  },
  {
   "cell_type": "code",
   "execution_count": 24,
   "metadata": {},
   "outputs": [
    {
     "data": {
      "text/plain": [
       "<h3 class=\"r\"><a href=\"/url?q=https://comicbook.com/marvel/2018/09/28/avengers-4-gwyneth-paltrow-marries-brad-falchuk-american-horror-story/&amp;sa=U&amp;ved=0ahUKEwjF1uDu1N_dAhWJLI8KHd_-DsYQqQIIFCgAMAA&amp;usg=AOvVaw0orLQzzLnDwRA-Z3xWhuXN\">'<b>Avengers</b>: Infinity War' Star Gwyneth Paltrow Is Getting Married This ...</a></h3>"
      ]
     },
     "execution_count": 24,
     "metadata": {},
     "output_type": "execute_result"
    }
   ],
   "source": [
    "website.h3"
   ]
  },
  {
   "cell_type": "code",
   "execution_count": 25,
   "metadata": {},
   "outputs": [
    {
     "data": {
      "text/plain": [
       "<a href=\"/url?q=https://comicbook.com/marvel/2018/09/28/avengers-4-gwyneth-paltrow-marries-brad-falchuk-american-horror-story/&amp;sa=U&amp;ved=0ahUKEwjF1uDu1N_dAhWJLI8KHd_-DsYQqQIIFCgAMAA&amp;usg=AOvVaw0orLQzzLnDwRA-Z3xWhuXN\">'<b>Avengers</b>: Infinity War' Star Gwyneth Paltrow Is Getting Married This ...</a>"
      ]
     },
     "execution_count": 25,
     "metadata": {},
     "output_type": "execute_result"
    }
   ],
   "source": [
    "website.h3.a"
   ]
  },
  {
   "cell_type": "code",
   "execution_count": 26,
   "metadata": {},
   "outputs": [
    {
     "data": {
      "text/plain": [
       "\"'Avengers: Infinity War' Star Gwyneth Paltrow Is Getting Married This ...\""
      ]
     },
     "execution_count": 26,
     "metadata": {},
     "output_type": "execute_result"
    }
   ],
   "source": [
    "website.h3.a.text"
   ]
  },
  {
   "cell_type": "code",
   "execution_count": 27,
   "metadata": {},
   "outputs": [
    {
     "data": {
      "text/plain": [
       "[<h3 class=\"r\"><a href=\"/url?q=https://comicbook.com/marvel/2018/09/28/avengers-4-gwyneth-paltrow-marries-brad-falchuk-american-horror-story/&amp;sa=U&amp;ved=0ahUKEwjF1uDu1N_dAhWJLI8KHd_-DsYQqQIIFCgAMAA&amp;usg=AOvVaw0orLQzzLnDwRA-Z3xWhuXN\">'<b>Avengers</b>: Infinity War' Star Gwyneth Paltrow Is Getting Married This ...</a></h3>,\n",
       " <h3 class=\"r\"><a href=\"/url?q=https://screenrant.com/avengers-4-title-eternity-war-theory/&amp;sa=U&amp;ved=0ahUKEwjF1uDu1N_dAhWJLI8KHd_-DsYQqQIIFygAMAE&amp;usg=AOvVaw2pg8uBJgMkb7F6zxUyO2ps\">Eternity War: The Best <b>Avengers</b> 4 Title Contender</a></h3>,\n",
       " <h3 class=\"r\"><a href=\"/url?q=https://www.express.co.uk/entertainment/films/1024167/Avengers-4-theory-Soul-Stone-Heimdall-Infinity-War&amp;sa=U&amp;ved=0ahUKEwjF1uDu1N_dAhWJLI8KHd_-DsYQqQIIICgAMAI&amp;usg=AOvVaw1ELrXTQ9iubnu1h4x4W14W\"><b>Avengers</b> 4: Mind-blowing theory links THIS character to the Soul ...</a></h3>,\n",
       " <h3 class=\"r\"><a href=\"/url?q=https://comicbook.com/marvel/2018/09/28/avengers-star-anthony-mackie-gets-blasted-by-atlanta-falcons-fan/&amp;sa=U&amp;ved=0ahUKEwjF1uDu1N_dAhWJLI8KHd_-DsYQqQIIIygAMAM&amp;usg=AOvVaw04Mnxmk0CU0iFiCSXieT3F\">'<b>Avengers</b>' Star Anthony Mackie Gets Blasted by Atlanta Falcons Fan</a></h3>,\n",
       " <h3 class=\"r\"><a href=\"/url?q=http://www.digitalspy.com/movies/the-avengers/news/a867157/marvel-avengers-fan-theory-odin-fake-infinity-gauntlet/&amp;sa=U&amp;ved=0ahUKEwjF1uDu1N_dAhWJLI8KHd_-DsYQqQIIKCgAMAQ&amp;usg=AOvVaw1fyvey6WnIpX3C0NcJntev\"><b>Avengers</b>: Infinity War fan theory might explain Odin's fake infinity ...</a></h3>,\n",
       " <h3 class=\"r\"><a href=\"/url?q=https://www.cinemablend.com/news/2458491/hawkeye-almost-got-a-casual-costume-in-the-avengers-and-its-wild&amp;sa=U&amp;ved=0ahUKEwjF1uDu1N_dAhWJLI8KHd_-DsYQqQIIKygAMAU&amp;usg=AOvVaw3sSnY6tuBMSMgQYAE2GR0D\">Hawkeye Almost Got A Casual Costume In The <b>Avengers</b>, And It's Wild</a></h3>,\n",
       " <h3 class=\"r\"><a href=\"/url?q=https://www.express.co.uk/entertainment/films/1023347/Avengers-4-leaks-Professor-Hulk-plot-theories-release-date-Captan-Marvel-America-Iron-Man&amp;sa=U&amp;ved=0ahUKEwjF1uDu1N_dAhWJLI8KHd_-DsYQqQIILigAMAY&amp;usg=AOvVaw1-Hll3gfZ3OIw39P8GtXKS\"><b>Avengers</b> 4 leaks: Does THIS picture prove shock Hulk storyline ...</a></h3>,\n",
       " <h3 class=\"r\"><a href=\"/url?q=https://www.express.co.uk/entertainment/films/1023234/Avengers-Infinity-War-Soul-Stone-planet-Vormir-Thor-Ragnarok-Thanos-Red-Skull-Gamora&amp;sa=U&amp;ved=0ahUKEwjF1uDu1N_dAhWJLI8KHd_-DsYQqQIIMSgAMAc&amp;usg=AOvVaw3Mx_u-a38nK5p_Ec84WBob\"><b>Avengers</b> Infinity War SHOCK: Soul Stone planet Vormir was in ...</a></h3>,\n",
       " <h3 class=\"r\"><a href=\"/url?q=https://www.express.co.uk/entertainment/films/1023089/Avengers-4-concept-art-leak-Captain-Marvel-Iron-Man-Thanos-Captain-America-Ronin-Thor&amp;sa=U&amp;ved=0ahUKEwjF1uDu1N_dAhWJLI8KHd_-DsYQqQIINigAMAg&amp;usg=AOvVaw30b_UeUSYUNcp39mEO4iLg\"><b>Avengers</b> 4 concept art LEAK: New look at Captain Marvel, Iron Man ...</a></h3>,\n",
       " <h3 class=\"r\"><a href=\"/url?q=https://www.usatoday.com/story/life/entertainthis/2018/09/28/exclusive-ant-man-and-wasp-deleted-scenes-paul-rudd-commentary/1450356002/&amp;sa=U&amp;ved=0ahUKEwjF1uDu1N_dAhWJLI8KHd_-DsYQqQIIPygAMAk&amp;usg=AOvVaw3sBA16l0PfafcWXWKeUYXv\">Watch two exclusive 'Ant-Man and the Wasp' deleted scenes (plus ...</a></h3>]"
      ]
     },
     "execution_count": 27,
     "metadata": {},
     "output_type": "execute_result"
    }
   ],
   "source": [
    "website.findAll(\"h3\")"
   ]
  },
  {
   "cell_type": "code",
   "execution_count": 28,
   "metadata": {
    "collapsed": true
   },
   "outputs": [],
   "source": [
    "news_headlines = pd.DataFrame(columns = ['title','sentiment','score'])"
   ]
  },
  {
   "cell_type": "code",
   "execution_count": 29,
   "metadata": {},
   "outputs": [
    {
     "data": {
      "text/html": [
       "<div>\n",
       "<style>\n",
       "    .dataframe thead tr:only-child th {\n",
       "        text-align: right;\n",
       "    }\n",
       "\n",
       "    .dataframe thead th {\n",
       "        text-align: left;\n",
       "    }\n",
       "\n",
       "    .dataframe tbody tr th {\n",
       "        vertical-align: top;\n",
       "    }\n",
       "</style>\n",
       "<table border=\"1\" class=\"dataframe\">\n",
       "  <thead>\n",
       "    <tr style=\"text-align: right;\">\n",
       "      <th></th>\n",
       "      <th>title</th>\n",
       "      <th>sentiment</th>\n",
       "      <th>score</th>\n",
       "    </tr>\n",
       "  </thead>\n",
       "  <tbody>\n",
       "  </tbody>\n",
       "</table>\n",
       "</div>"
      ],
      "text/plain": [
       "Empty DataFrame\n",
       "Columns: [title, sentiment, score]\n",
       "Index: []"
      ]
     },
     "execution_count": 29,
     "metadata": {},
     "output_type": "execute_result"
    }
   ],
   "source": [
    "news_headlines"
   ]
  },
  {
   "cell_type": "code",
   "execution_count": 30,
   "metadata": {
    "collapsed": true
   },
   "outputs": [],
   "source": [
    "headlines = website.findAll(\"h3\")"
   ]
  },
  {
   "cell_type": "code",
   "execution_count": 31,
   "metadata": {},
   "outputs": [
    {
     "name": "stdout",
     "output_type": "stream",
     "text": [
      "'Avengers: Infinity War' Star Gwyneth Paltrow Is Getting Married This ...\n",
      "\n",
      "Eternity War: The Best Avengers 4 Title Contender\n",
      "\n",
      "Avengers 4: Mind-blowing theory links THIS character to the Soul ...\n",
      "\n",
      "'Avengers' Star Anthony Mackie Gets Blasted by Atlanta Falcons Fan\n",
      "\n",
      "Avengers: Infinity War fan theory might explain Odin's fake infinity ...\n",
      "\n",
      "Hawkeye Almost Got A Casual Costume In The Avengers, And It's Wild\n",
      "\n",
      "Avengers 4 leaks: Does THIS picture prove shock Hulk storyline ...\n",
      "\n",
      "Avengers Infinity War SHOCK: Soul Stone planet Vormir was in ...\n",
      "\n",
      "Avengers 4 concept art LEAK: New look at Captain Marvel, Iron Man ...\n",
      "\n",
      "Watch two exclusive 'Ant-Man and the Wasp' deleted scenes (plus ...\n",
      "\n"
     ]
    }
   ],
   "source": [
    "n = 0 \n",
    "for item in headlines:\n",
    "    top = item.a\n",
    "    \n",
    "    text_headline = top.text\n",
    "    print (text_headline)\n",
    "    print()\n",
    "    n +=1 \n",
    "    news_headlines.loc[n-1, 'title'] = text_headline\n",
    "    "
   ]
  },
  {
   "cell_type": "code",
   "execution_count": 32,
   "metadata": {},
   "outputs": [
    {
     "data": {
      "text/html": [
       "<div>\n",
       "<style>\n",
       "    .dataframe thead tr:only-child th {\n",
       "        text-align: right;\n",
       "    }\n",
       "\n",
       "    .dataframe thead th {\n",
       "        text-align: left;\n",
       "    }\n",
       "\n",
       "    .dataframe tbody tr th {\n",
       "        vertical-align: top;\n",
       "    }\n",
       "</style>\n",
       "<table border=\"1\" class=\"dataframe\">\n",
       "  <thead>\n",
       "    <tr style=\"text-align: right;\">\n",
       "      <th></th>\n",
       "      <th>title</th>\n",
       "      <th>sentiment</th>\n",
       "      <th>score</th>\n",
       "    </tr>\n",
       "  </thead>\n",
       "  <tbody>\n",
       "    <tr>\n",
       "      <th>0</th>\n",
       "      <td>'Avengers: Infinity War' Star Gwyneth Paltrow ...</td>\n",
       "      <td>NaN</td>\n",
       "      <td>NaN</td>\n",
       "    </tr>\n",
       "    <tr>\n",
       "      <th>1</th>\n",
       "      <td>Eternity War: The Best Avengers 4 Title Contender</td>\n",
       "      <td>NaN</td>\n",
       "      <td>NaN</td>\n",
       "    </tr>\n",
       "    <tr>\n",
       "      <th>2</th>\n",
       "      <td>Avengers 4: Mind-blowing theory links THIS cha...</td>\n",
       "      <td>NaN</td>\n",
       "      <td>NaN</td>\n",
       "    </tr>\n",
       "    <tr>\n",
       "      <th>3</th>\n",
       "      <td>'Avengers' Star Anthony Mackie Gets Blasted by...</td>\n",
       "      <td>NaN</td>\n",
       "      <td>NaN</td>\n",
       "    </tr>\n",
       "    <tr>\n",
       "      <th>4</th>\n",
       "      <td>Avengers: Infinity War fan theory might explai...</td>\n",
       "      <td>NaN</td>\n",
       "      <td>NaN</td>\n",
       "    </tr>\n",
       "  </tbody>\n",
       "</table>\n",
       "</div>"
      ],
      "text/plain": [
       "                                               title sentiment score\n",
       "0  'Avengers: Infinity War' Star Gwyneth Paltrow ...       NaN   NaN\n",
       "1  Eternity War: The Best Avengers 4 Title Contender       NaN   NaN\n",
       "2  Avengers 4: Mind-blowing theory links THIS cha...       NaN   NaN\n",
       "3  'Avengers' Star Anthony Mackie Gets Blasted by...       NaN   NaN\n",
       "4  Avengers: Infinity War fan theory might explai...       NaN   NaN"
      ]
     },
     "execution_count": 32,
     "metadata": {},
     "output_type": "execute_result"
    }
   ],
   "source": [
    "news_headlines.head()"
   ]
  },
  {
   "cell_type": "code",
   "execution_count": null,
   "metadata": {
    "collapsed": true
   },
   "outputs": [],
   "source": []
  }
 ],
 "metadata": {
  "kernelspec": {
   "display_name": "Python 3",
   "language": "python",
   "name": "python3"
  },
  "language_info": {
   "codemirror_mode": {
    "name": "ipython",
    "version": 3
   },
   "file_extension": ".py",
   "mimetype": "text/x-python",
   "name": "python",
   "nbconvert_exporter": "python",
   "pygments_lexer": "ipython3",
   "version": "3.6.2"
  }
 },
 "nbformat": 4,
 "nbformat_minor": 2
}
