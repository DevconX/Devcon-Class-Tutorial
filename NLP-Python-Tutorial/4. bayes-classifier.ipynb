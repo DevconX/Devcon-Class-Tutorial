{
 "cells": [
  {
   "cell_type": "markdown",
   "metadata": {},
   "source": [
    "# Topic Classification of Sentences"
   ]
  },
  {
   "cell_type": "markdown",
   "metadata": {},
   "source": [
    "Here we will see how to use bayesian on multi-class classification/discrimination.\n",
    "\n",
    "Import class sklearn.naive_bayes.MultinomialNB for Multinomial logistic regression (logistic regression of multi-class).\n",
    "\n",
    "If you want to classify binary classes, it is better to use BernoulliNB.\n",
    "\n",
    "I will also compare accuracy for using BOW and TF-IDF vectorizing techniques."
   ]
  },
  {
   "cell_type": "code",
   "execution_count": 1,
   "metadata": {
    "collapsed": true
   },
   "outputs": [],
   "source": [
    "from sklearn import metrics\n",
    "import numpy as np\n",
    "import sklearn.datasets\n",
    "import re\n",
    "from sklearn.feature_extraction.text import HashingVectorizer\n",
    "from sklearn.feature_extraction.text import CountVectorizer\n",
    "from sklearn.feature_extraction.text import TfidfTransformer\n",
    "from sklearn.naive_bayes import MultinomialNB\n",
    "from sklearn.model_selection import train_test_split"
   ]
  },
  {
   "cell_type": "markdown",
   "metadata": {},
   "source": [
    "Define some function to help us for preprocessing"
   ]
  },
  {
   "cell_type": "code",
   "execution_count": 2,
   "metadata": {
    "collapsed": true
   },
   "outputs": [],
   "source": [
    "# clear string\n",
    "def clearstring(string):\n",
    "    string = re.sub('[^A-Za-z0-9 ]+', '', string)\n",
    "    string = string.split(' ')\n",
    "    string = filter(None, string)\n",
    "    string = [y.strip() for y in string]\n",
    "    string = ' '.join(string)\n",
    "    return string\n",
    "\n",
    "# because of sklean.datasets read a document as a single element\n",
    "# so we want to split based on new line\n",
    "def separate_dataset(trainset):\n",
    "    datastring = []\n",
    "    datatarget = []\n",
    "    for i in range(len(trainset.data)):\n",
    "        data_ = trainset.data[i].split('\\n')\n",
    "        # python3, if python2, just remove list()\n",
    "        data_ = list(filter(None, data_))\n",
    "        for n in range(len(data_)):\n",
    "            data_[n] = clearstring(data_[n])\n",
    "        datastring += data_\n",
    "        for n in range(len(data_)):\n",
    "            datatarget.append(trainset.target[i])\n",
    "    return datastring, datatarget"
   ]
  },
  {
   "cell_type": "markdown",
   "metadata": {},
   "source": [
    "I included 6 classes in local/\n",
    "1. adidas (wear)\n",
    "2. apple (electronic)\n",
    "3. hungry (status)\n",
    "4. kerajaan (government related)\n",
    "5. nike (wear)\n",
    "6. pembangkang (opposition related)"
   ]
  },
  {
   "cell_type": "code",
   "execution_count": 3,
   "metadata": {},
   "outputs": [
    {
     "name": "stdout",
     "output_type": "stream",
     "text": [
      "List of Classes: ['adidas', 'apple', 'hungry', 'kerajaan', 'nike', 'pembangkang']\n",
      "# of Samples: 25292\n",
      "# of Samples: 25292\n"
     ]
    }
   ],
   "source": [
    "# you can change any encoding type\n",
    "trainset = sklearn.datasets.load_files(container_path = 'local', encoding = 'UTF-8')\n",
    "trainset.data, trainset.target = separate_dataset(trainset)\n",
    "print (\"List of Classes: %s\" %trainset.target_names)\n",
    "print (\"# of Samples: %s\" %len(trainset.data))\n",
    "print (\"# of Samples: %s\" %len(trainset.target))"
   ]
  },
  {
   "cell_type": "markdown",
   "metadata": {},
   "source": [
    "Change n to see different samples from the dataset"
   ]
  },
  {
   "cell_type": "code",
   "execution_count": 4,
   "metadata": {
    "scrolled": false
   },
   "outputs": [
    {
     "name": "stdout",
     "output_type": "stream",
     "text": [
      "Sentence: Najib emulating Trump in using tweets to spread his politics of fear hatred and lies\n",
      "Class: pembangkang\n"
     ]
    }
   ],
   "source": [
    "n=0\n",
    "print(\"Sentence: %s\" %trainset.data[n])\n",
    "print(\"Class: %s\" %trainset.target_names[trainset.target[n]])"
   ]
  },
  {
   "cell_type": "markdown",
   "metadata": {},
   "source": [
    "Let's split the data into train (80%) and test (20%) sets."
   ]
  },
  {
   "cell_type": "code",
   "execution_count": 5,
   "metadata": {
    "collapsed": true
   },
   "outputs": [],
   "source": [
    "train_data, test_data, train_Y, test_Y = train_test_split(trainset.data, trainset.target, test_size = 0.2)"
   ]
  },
  {
   "cell_type": "markdown",
   "metadata": {},
   "source": [
    "# Using BOW"
   ]
  },
  {
   "cell_type": "markdown",
   "metadata": {},
   "source": [
    "It is time to change data into BOW vector representation"
   ]
  },
  {
   "cell_type": "code",
   "execution_count": 6,
   "metadata": {
    "collapsed": true
   },
   "outputs": [],
   "source": [
    "bow = CountVectorizer().fit(train_data) # create and train a bow verctorizer using training data"
   ]
  },
  {
   "cell_type": "markdown",
   "metadata": {},
   "source": [
    "Train and test Naive Bayes using BOW"
   ]
  },
  {
   "cell_type": "code",
   "execution_count": 7,
   "metadata": {},
   "outputs": [
    {
     "name": "stdout",
     "output_type": "stream",
     "text": [
      "accuracy validation set: 0.854121367859\n",
      "             precision    recall  f1-score   support\n",
      "\n",
      "     adidas       0.92      0.77      0.84       313\n",
      "      apple       0.81      0.88      0.84       450\n",
      "     hungry       0.86      0.95      0.90      1068\n",
      "   kerajaan       0.86      0.82      0.84      1367\n",
      "       nike       0.89      0.83      0.86       317\n",
      "pembangkang       0.85      0.83      0.84      1544\n",
      "\n",
      "avg / total       0.86      0.85      0.85      5059\n",
      "\n"
     ]
    }
   ],
   "source": [
    "bow_train_X = bow.transform(train_data)\n",
    "bow_test_X = bow.transform(test_data)\n",
    "\n",
    "bow_bayes_multinomial = MultinomialNB().fit(bow_train_X, train_Y)\n",
    "predicted = bow_bayes_multinomial.predict(bow_test_X)\n",
    "print('accuracy validation set: %s' %np.mean(predicted == test_Y))\n",
    "\n",
    "# print scores\n",
    "print(metrics.classification_report(test_Y, predicted, target_names = trainset.target_names))"
   ]
  },
  {
   "cell_type": "markdown",
   "metadata": {},
   "source": [
    "Let's test the trained model using our own sentecne.\n",
    "\n",
    "Try using a sentence that would fall under one of the 6 classes. Don't forget to try something that is considered difficult to classify.\n",
    "\n",
    "Example: \"People who starve can not afford expensive shoes\""
   ]
  },
  {
   "cell_type": "code",
   "execution_count": 18,
   "metadata": {},
   "outputs": [
    {
     "name": "stdout",
     "output_type": "stream",
     "text": [
      "Class: pembangkang\n"
     ]
    }
   ],
   "source": [
    "sentence = \"election is important\"\n",
    "\n",
    "s = bow.transform([sentence])\n",
    "l = bow_bayes_multinomial.predict(s)\n",
    "print(\"Class: %s\" %trainset.target_names[l[0]])"
   ]
  },
  {
   "cell_type": "markdown",
   "metadata": {},
   "source": [
    "# Using TF-IDF"
   ]
  },
  {
   "cell_type": "markdown",
   "metadata": {},
   "source": [
    "It is time to change data into TF-IDF vector representation"
   ]
  },
  {
   "cell_type": "code",
   "execution_count": 19,
   "metadata": {
    "collapsed": true
   },
   "outputs": [],
   "source": [
    "# must get data from BOW first\n",
    "tfidf = TfidfTransformer().fit(bow_train_X) # create and train a tfidf verctorizer using training data"
   ]
  },
  {
   "cell_type": "markdown",
   "metadata": {},
   "source": [
    "Train Naive Bayes using TF-IDF"
   ]
  },
  {
   "cell_type": "code",
   "execution_count": 20,
   "metadata": {
    "scrolled": true
   },
   "outputs": [
    {
     "name": "stdout",
     "output_type": "stream",
     "text": [
      "accuracy validation set: 0.812611187982\n",
      "             precision    recall  f1-score   support\n",
      "\n",
      "     adidas       0.95      0.55      0.70       313\n",
      "      apple       0.97      0.62      0.75       450\n",
      "     hungry       0.80      0.92      0.85      1068\n",
      "   kerajaan       0.86      0.83      0.84      1367\n",
      "       nike       0.93      0.64      0.76       317\n",
      "pembangkang       0.74      0.87      0.80      1544\n",
      "\n",
      "avg / total       0.83      0.81      0.81      5059\n",
      "\n"
     ]
    }
   ],
   "source": [
    "# must get data from BOW first\n",
    "tfidf_train_X = tfidf.transform(bow_train_X)\n",
    "tfidf_test_X = tfidf.transform(bow_test_X)\n",
    "\n",
    "tfidf_bayes_multinomial = MultinomialNB().fit(tfidf_train_X, train_Y)\n",
    "predicted = tfidf_bayes_multinomial.predict(tfidf_test_X)\n",
    "print('accuracy validation set: %s' %np.mean(predicted == test_Y))\n",
    "\n",
    "# print scores\n",
    "print(metrics.classification_report(test_Y, predicted, target_names = trainset.target_names))"
   ]
  },
  {
   "cell_type": "markdown",
   "metadata": {},
   "source": [
    "Let's test the trained model using our own sentecne.\n",
    "\n",
    "Try using a sentence that would fall under one of the 6 classes. Don't forget to try something that is considered difficult to classify.\n",
    "\n",
    "Example: \"People who starve can not afford expensive shoes\""
   ]
  },
  {
   "cell_type": "code",
   "execution_count": 21,
   "metadata": {},
   "outputs": [
    {
     "name": "stdout",
     "output_type": "stream",
     "text": [
      "Class: pembangkang\n"
     ]
    }
   ],
   "source": [
    "sentence = \"this device is too good to be true\"\n",
    "\n",
    "s = bow.transform([sentence])\n",
    "l = tfidf_bayes_multinomial.predict(s)\n",
    "print(\"Class: %s\" %trainset.target_names[l[0]])"
   ]
  },
  {
   "cell_type": "code",
   "execution_count": null,
   "metadata": {
    "collapsed": true
   },
   "outputs": [],
   "source": []
  }
 ],
 "metadata": {
  "anaconda-cloud": {},
  "kernelspec": {
   "display_name": "Python [default]",
   "language": "python",
   "name": "python2"
  },
  "language_info": {
   "codemirror_mode": {
    "name": "ipython",
    "version": 2
   },
   "file_extension": ".py",
   "mimetype": "text/x-python",
   "name": "python",
   "nbconvert_exporter": "python",
   "pygments_lexer": "ipython2",
   "version": "2.7.13"
  }
 },
 "nbformat": 4,
 "nbformat_minor": 2
}
