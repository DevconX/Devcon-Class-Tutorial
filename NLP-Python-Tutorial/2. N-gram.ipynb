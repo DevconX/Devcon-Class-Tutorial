{
 "cells": [
  {
   "cell_type": "markdown",
   "metadata": {},
   "source": [
    "# N-gram algorithm"
   ]
  },
  {
   "cell_type": "code",
   "execution_count": 37,
   "metadata": {
    "collapsed": true
   },
   "outputs": [],
   "source": [
    "import numpy as np"
   ]
  },
  {
   "cell_type": "code",
   "execution_count": 38,
   "metadata": {},
   "outputs": [
    {
     "data": {
      "text/plain": [
       "['the', 'dog', 'is', 'on', 'the', 'table', 'while', 'drinking', 'milk']"
      ]
     },
     "execution_count": 38,
     "metadata": {},
     "output_type": "execute_result"
    }
   ],
   "source": [
    "sentence = 'the dog is on the table while drinking milk'\n",
    "sentence_splitted = sentence.split()\n",
    "sentence_splitted"
   ]
  },
  {
   "cell_type": "code",
   "execution_count": 39,
   "metadata": {},
   "outputs": [
    {
     "data": {
      "text/plain": [
       "['the dog',\n",
       " 'table while',\n",
       " 'drinking milk',\n",
       " 'the table',\n",
       " 'while drinking',\n",
       " 'on the',\n",
       " 'dog is',\n",
       " 'is on']"
      ]
     },
     "execution_count": 39,
     "metadata": {},
     "output_type": "execute_result"
    }
   ],
   "source": [
    "N = 2\n",
    "grams = []\n",
    "for i in range(len(sentence_splitted) - N + 1):\n",
    "    grams.append(' '.join(sentence_splitted[i:i+N]))\n",
    "grams = list(set(grams))\n",
    "grams"
   ]
  },
  {
   "cell_type": "code",
   "execution_count": 40,
   "metadata": {},
   "outputs": [
    {
     "data": {
      "text/plain": [
       "['the table while',\n",
       " 'is on the',\n",
       " 'on the table',\n",
       " 'table while drinking',\n",
       " 'while drinking milk',\n",
       " 'the dog is',\n",
       " 'dog is on']"
      ]
     },
     "execution_count": 40,
     "metadata": {},
     "output_type": "execute_result"
    }
   ],
   "source": [
    "N = 3\n",
    "grams = []\n",
    "for i in range(len(sentence_splitted) - N + 1):\n",
    "    grams.append(' '.join(sentence_splitted[i:i+N]))\n",
    "grams = list(set(grams))\n",
    "grams"
   ]
  },
  {
   "cell_type": "code",
   "execution_count": 41,
   "metadata": {},
   "outputs": [
    {
     "data": {
      "text/plain": [
       "['the table while drinking',\n",
       " 'the dog is on',\n",
       " 'table while drinking milk',\n",
       " 'is on the table',\n",
       " 'dog is on the',\n",
       " 'on the table while']"
      ]
     },
     "execution_count": 41,
     "metadata": {},
     "output_type": "execute_result"
    }
   ],
   "source": [
    "N = 4\n",
    "grams = []\n",
    "for i in range(len(sentence_splitted) - N + 1):\n",
    "    grams.append(' '.join(sentence_splitted[i:i+N]))\n",
    "grams = list(set(grams))\n",
    "grams"
   ]
  },
  {
   "cell_type": "code",
   "execution_count": 42,
   "metadata": {},
   "outputs": [
    {
     "data": {
      "text/plain": [
       "['is on the table while',\n",
       " 'the table while drinking milk',\n",
       " 'dog is on the table',\n",
       " 'the dog is on the',\n",
       " 'on the table while drinking']"
      ]
     },
     "execution_count": 42,
     "metadata": {},
     "output_type": "execute_result"
    }
   ],
   "source": [
    "N = 5\n",
    "grams = []\n",
    "for i in range(len(sentence_splitted) - N + 1):\n",
    "    grams.append(' '.join(sentence_splitted[i:i+N]))\n",
    "grams = list(set(grams))\n",
    "grams"
   ]
  },
  {
   "cell_type": "code",
   "execution_count": 43,
   "metadata": {},
   "outputs": [
    {
     "data": {
      "text/plain": [
       "['the dog is on the table',\n",
       " 'is on the table while drinking',\n",
       " 'on the table while drinking milk',\n",
       " 'dog is on the table while']"
      ]
     },
     "execution_count": 43,
     "metadata": {},
     "output_type": "execute_result"
    }
   ],
   "source": [
    "N = 6\n",
    "grams = []\n",
    "for i in range(len(sentence_splitted) - N + 1):\n",
    "    grams.append(' '.join(sentence_splitted[i:i+N]))\n",
    "grams = list(set(grams))\n",
    "grams"
   ]
  },
  {
   "cell_type": "code",
   "execution_count": null,
   "metadata": {
    "collapsed": true
   },
   "outputs": [],
   "source": []
  }
 ],
 "metadata": {
  "anaconda-cloud": {},
  "kernelspec": {
   "display_name": "Python [conda root]",
   "language": "python",
   "name": "conda-root-py"
  },
  "language_info": {
   "codemirror_mode": {
    "name": "ipython",
    "version": 2
   },
   "file_extension": ".py",
   "mimetype": "text/x-python",
   "name": "python",
   "nbconvert_exporter": "python",
   "pygments_lexer": "ipython2",
   "version": "2.7.13"
  }
 },
 "nbformat": 4,
 "nbformat_minor": 2
}
